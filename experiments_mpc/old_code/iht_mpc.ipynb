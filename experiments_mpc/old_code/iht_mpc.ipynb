{
 "cells": [
  {
   "cell_type": "code",
   "execution_count": 1,
   "metadata": {},
   "outputs": [],
   "source": [
    "import crypten\n",
    "import torch\n",
    "import numpy as np\n",
    "import matplotlib.pyplot as plt\n",
    "\n",
    "import crypten.mpc as mpc\n",
    "import crypten.communicator as comm \n",
    "\n",
    "crypten.init()\n",
    "\n",
    "torch.set_num_threads(1)\n",
    "torch.set_printoptions(precision=10)"
   ]
  },
  {
   "cell_type": "code",
   "execution_count": 2,
   "metadata": {},
   "outputs": [],
   "source": [
    "def sample_dataset(n, p, c, k):\n",
    "    np.random.seed(0)\n",
    "    x = np.random.uniform(-1, 1, (n, p))\n",
    "    noise = np.random.uniform(-c, c, n)\n",
    "    \n",
    "    theta_star = np.random.uniform(-1, 1, p)\n",
    "\n",
    "    # make theta_star k-sparse randomly\n",
    "    index = np.random.choice(range(p), k)\n",
    "    for i in index:\n",
    "        theta_star[i] = 0\n",
    "        \n",
    "    y = x @ theta_star + noise\n",
    "    return torch.tensor(x), torch.tensor(y), torch.tensor(theta_star)"
   ]
  },
  {
   "cell_type": "code",
   "execution_count": 3,
   "metadata": {},
   "outputs": [],
   "source": [
    "@mpc.run_multiprocess(world_size=3)\n",
    "def proba():\n",
    "\n",
    "    x = torch.tensor([[1, 0, 1, 0], [0, 0, 1, 1], [1, 1, 1, 1]])\n",
    "    y = torch.tensor([1, 2, 3])\n",
    "\n",
    "    x_enc = crypten.cryptensor(x, ptype=crypten.mpc.arithmetic)\n",
    "    y_enc = crypten.cryptensor(y, ptype=crypten.mpc.arithmetic)\n",
    "    \n",
    "\n",
    "    # bits cutting\n",
    "    z = torch.tensor([100, 200, 300])\n",
    "    z_enc = crypten.cryptensor(z, ptype=crypten.mpc.arithmetic)\n",
    "\n",
    "    z_enc_trunc = crypten.cryptensor(torch.zeros(3), ptype=crypten.mpc.arithmetic)\n",
    "    for i in range(3):\n",
    "        z_enc_trunc[i] = z_enc[i].div(2)\n",
    "\n",
    "    crypten.print(f\"Source {0} secret after trucation: {z_enc.get_plain_text()} -> {z_enc_trunc.get_plain_text()}\")\n",
    "\n",
    "    # SUM\n",
    "    x_enc_summed = x_enc.sum(dim=1) # dim=1 for column, or dim = 0 to do it by rows\n",
    "    x_summed_revealed = x_enc_summed.get_plain_text()\n",
    "\n",
    "    crypten.print(f\"Source {0} for x_summed_revealed: {x_summed_revealed}\")\n",
    "\n",
    "    # NORM\n",
    "    x_enc_mult = x_enc_summed.matmul(y)\n",
    "    x_mult_revealed = x_enc_mult.get_plain_text()\n",
    "\n",
    "    crypten.print(f\"Source {0} for mult for same size (norm): {x_mult_revealed}\")\n",
    "\n",
    "    # TRANSPOSE\n",
    "    y_enc_t = y_enc.transpose(-1, 0)\n",
    "    crypten.print(f\"Source {0} transpose: {y_enc.shape} -> {y_enc_t.shape}\")\n",
    "\n",
    "    x_enc_t = x_enc.transpose(0, -1)\n",
    "    crypten.print(f\"Source {0} transpose: {x_enc.shape} -> {x_enc_t.shape}\")\n",
    "\n",
    "    # NORM\n",
    "    x_enc_mult2 = x_enc.transpose(0, 1).matmul(y)\n",
    "    x_mult_revealed2 = x_enc_mult2.get_plain_text()\n",
    "    crypten.print(f\"Source {0} for mult for different sizes: {x_mult_revealed2}\")\n",
    "\n",
    "\n",
    "    "
   ]
  },
  {
   "cell_type": "code",
   "execution_count": 4,
   "metadata": {},
   "outputs": [
    {
     "name": "stdout",
     "output_type": "stream",
     "text": [
      "Source 0 secret after trucation: tensor([100., 200., 300.]) -> tensor([ 50.0000000000, 100.0000000000, 149.9999847412])\n",
      "Source 0 for x_summed_revealed: tensor([2., 2., 4.])\n",
      "Source 0 for mult for same size (norm): 18.0\n",
      "Source 0 transpose: torch.Size([3]) -> torch.Size([3])\n",
      "Source 0 transpose: torch.Size([3, 4]) -> torch.Size([4, 3])\n",
      "Source 0 for mult for different sizes: tensor([4., 3., 6., 5.])\n"
     ]
    }
   ],
   "source": [
    "proba();"
   ]
  },
  {
   "cell_type": "code",
   "execution_count": 5,
   "metadata": {},
   "outputs": [
    {
     "data": {
      "text/plain": [
       "tensor([ 0.,  0.,  0.,  0.,  0., 17.,  0.,  0.,  0.,  0.])"
      ]
     },
     "execution_count": 5,
     "metadata": {},
     "output_type": "execute_result"
    }
   ],
   "source": [
    "nabla_prev = torch.zeros(10)\n",
    "nabla_prev[5] = 17\n",
    "nabla_prev"
   ]
  },
  {
   "cell_type": "code",
   "execution_count": 6,
   "metadata": {},
   "outputs": [
    {
     "data": {
      "text/plain": [
       "tensor([5, 8, 4])"
      ]
     },
     "execution_count": 6,
     "metadata": {},
     "output_type": "execute_result"
    }
   ],
   "source": [
    "x = torch.tensor([[1, 0, 1, 0], [0, 0, 1, 1], [1, 1, 0, 0]]) # n = 3, p = 4\n",
    "theta_star = torch.tensor([1, 2, 3, 4])\n",
    "noise = torch.tensor([1, 1, 1])\n",
    "y = x.matmul(theta_star) + noise\n",
    "\n",
    "y"
   ]
  },
  {
   "cell_type": "code",
   "execution_count": 7,
   "metadata": {},
   "outputs": [
    {
     "data": {
      "text/plain": [
       "tensor([5, 8, 4], dtype=torch.int32)"
      ]
     },
     "execution_count": 7,
     "metadata": {},
     "output_type": "execute_result"
    }
   ],
   "source": [
    "x = x.int()\n",
    "theta_star = theta_star.int()\n",
    "noise = noise.int()\n",
    "\n",
    "y = x.matmul(theta_star) + noise\n",
    "\n",
    "y"
   ]
  },
  {
   "cell_type": "code",
   "execution_count": 8,
   "metadata": {},
   "outputs": [],
   "source": [
    "## for debugging\n",
    "def reveal_and_print(x, info_text=''):\n",
    "    x_rev = x.get_plain_text()\n",
    "    crypten.print(f\"Source {0} {info_text}= {x_rev}\")"
   ]
  },
  {
   "cell_type": "code",
   "execution_count": 9,
   "metadata": {},
   "outputs": [],
   "source": [
    "# for truncation step\n",
    "# make a vector v k-sparse, meaning that only the largest k values are non-zero\n",
    "# select the smallest (n - k) values, and make them zero\n",
    "\n",
    "def truncate_mpc(x, k, bits_to_cut):\n",
    "    x_copy = x.clone() # to avoid cutting bits on the real input, which is returned at the end\n",
    "\n",
    "    n = len(x)\n",
    "    if k == 0 or k == n:\n",
    "        return x # no change needed\n",
    "    \n",
    "    # preparing for argmax:\n",
    "    # cutting c bits for efficiency reasons\n",
    "    if bits_to_cut > 0:\n",
    "        x_copy = x_copy.div(bits_to_cut) # removing the last c=6 bits from every share\n",
    "\n",
    "    x_copy_abs = x_copy.abs()\n",
    "    max_value = x_copy_abs.max()\n",
    "    argmin_index_rev = []\n",
    "    k = n - k\n",
    "\n",
    "    for _ in range(k):\n",
    "        min_index = x_copy_abs.argmin(one_hot=False)\n",
    "\n",
    "        min_index_rev = min_index.get_plain_text()\n",
    "        x_copy_abs[min_index_rev] = max_value # set to the maximum value to avoid finding the same index in the next iteration\n",
    "\n",
    "        argmin_index_rev.append(min_index_rev)\n",
    "\n",
    "    # set all min index to 0 for x (not for x_copy)\n",
    "    for i in argmin_index_rev:\n",
    "        x[i] = crypten.cryptensor(0, ptype=crypten.mpc.arithmetic)\n",
    "    return x"
   ]
  },
  {
   "cell_type": "code",
   "execution_count": 10,
   "metadata": {},
   "outputs": [
    {
     "data": {
      "text/plain": [
       "tensor([-100.,    0.,    0.,    0.,    0.,    0.,    6.,    7.])"
      ]
     },
     "execution_count": 10,
     "metadata": {},
     "output_type": "execute_result"
    }
   ],
   "source": [
    "# testing\n",
    "x_input = [-100, 1, 2, 3, 4, 5, 6, 7]\n",
    "x_input_enc = crypten.cryptensor(x_input, ptype=crypten.mpc.arithmetic)\n",
    "sparse_x = truncate_mpc(x_input_enc, 3)\n",
    "sparse_x.get_plain_text()"
   ]
  },
  {
   "cell_type": "code",
   "execution_count": 26,
   "metadata": {},
   "outputs": [],
   "source": [
    "@mpc.run_multiprocess(world_size=3)\n",
    "def iht_mpc(n, p, k, T, eta=0.1, c=0.05, bits_to_cut=1):\n",
    "\n",
    "    x_input, y_input, theta_star = sample_dataset(n, p, c, k)\n",
    "\n",
    "    #x_input = torch.tensor([[1, 0, 1, 0], [0, 0, 1, 1], [1, 1, 0, 0]]) # n = 3, p = 4\n",
    "    #theta_star_input = torch.tensor([1, 2, 3, 4])\n",
    "    #noise_input = torch.tensor([1, 1, 1])\n",
    "    #y_input = x_input.matmul(theta_star_input) + noise_input\n",
    "\n",
    "    ### All the variables from here on are in shared format, the result of computations is also in shared format\n",
    "    ### Only eta and n, both constants, are not in shared format.\n",
    "\n",
    "    # distribute the input\n",
    "    x = crypten.cryptensor(x_input, ptype=crypten.mpc.arithmetic)\n",
    "    y = crypten.cryptensor(y_input, ptype=crypten.mpc.arithmetic)\n",
    "    theta_prev = crypten.cryptensor(torch.zeros(p), ptype=crypten.mpc.arithmetic)\n",
    "\n",
    "    iterations_error_enc = crypten.cryptensor(torch.zeros(T), ptype=crypten.mpc.arithmetic)\n",
    "\n",
    "    # Line 3\n",
    "    for t in range(T):\n",
    "        nablas_sum = 0 # this will do matrix addition column-wise\n",
    "\n",
    "        for i in range(n):\n",
    "            a = theta_prev.matmul(x[i]) # --> scalar\n",
    "            a = a - y[i] # --> scalar\n",
    "            b = x[i].transpose(0, -1)\n",
    "            nabla_i = b.mul(a)\n",
    "\n",
    "            nablas_sum += nabla_i\n",
    "        \n",
    "        # Line 4: aggregate gradients\n",
    "        nabla_prev = nablas_sum.div(n)\n",
    "\n",
    "        # Line 5: perform gradient descend\n",
    "        theta_t = theta_prev - eta * nabla_prev\n",
    "\n",
    "        # Line 6: add sparsity\n",
    "        theta_t = truncate_mpc(theta_t, k, bits_to_cut)\n",
    "\n",
    "        # compute iteration error\n",
    "        e = theta_t - theta_star\n",
    "        e = e.norm(p=2)\n",
    "        iterations_error_enc[t] = e\n",
    "\n",
    "        # update theta for next iteration\n",
    "        theta_prev = theta_t\n",
    "\n",
    "        crypten.print(f\"Source {0} Iteration {t} done.\")\n",
    "\n",
    "    iterations_error_reveal = iterations_error_enc.get_plain_text()\n",
    "    return iterations_error_reveal\n"
   ]
  },
  {
   "cell_type": "markdown",
   "metadata": {},
   "source": [
    "### Plots 1: error by iteration\n",
    "\n",
    "- ox: iteration number\n",
    "- oy: error || theta_star - theta_t||2\n",
    "- varied by k (sparsity)"
   ]
  },
  {
   "cell_type": "code",
   "execution_count": 12,
   "metadata": {},
   "outputs": [],
   "source": [
    "def plot_error_by_iterations(results):\n",
    "    _, axs = plt.subplots(2, 2, figsize=(14, 10))\n",
    "\n",
    "    r, c = 0, 0\n",
    "    for k in [5, 10, 20, 30]:\n",
    "        for key in results.keys():\n",
    "            if key[1] == k:\n",
    "                T = len(results[key][0])\n",
    "                n, k = key\n",
    "                axs[r, c].plot(range(T), results[key][0].numpy(), label=f'n={n}',\n",
    "                         color=(np.random.random(), np.random.random(), np.random.random()))\n",
    "\n",
    "        axs[r, c].set_title(f'p = {64}, k = {k}')\n",
    "        axs[r, c].legend(loc=1)\n",
    "        \n",
    "        c += 1\n",
    "        if c == 2:\n",
    "            c = 0\n",
    "            r += 1\n",
    "\n",
    "    for ax in axs.flat:\n",
    "        ax.set(xlabel='T (iterations)', ylabel='||theta_t - theta*||2')\n",
    "        \n",
    "    plt.show()"
   ]
  },
  {
   "cell_type": "code",
   "execution_count": 27,
   "metadata": {},
   "outputs": [
    {
     "name": "stdout",
     "output_type": "stream",
     "text": [
      "Source 0 Iteration 0 done.\n",
      "Source 0 Iteration 1 done.\n",
      "Source 0 Iteration 2 done.\n",
      "Source 0 Iteration 3 done.\n",
      "Source 0 Iteration 4 done.\n",
      "Source 0 Iteration 5 done.\n",
      "Source 0 Iteration 6 done.\n",
      "Source 0 Iteration 7 done.\n",
      "Source 0 Iteration 8 done.\n",
      "Source 0 Iteration 9 done.\n",
      "done with n=1 k=5\n",
      "Source 0 Iteration 0 done.\n",
      "Source 0 Iteration 1 done.\n",
      "Source 0 Iteration 2 done.\n",
      "Source 0 Iteration 3 done.\n",
      "Source 0 Iteration 4 done.\n",
      "Source 0 Iteration 5 done.\n",
      "Source 0 Iteration 6 done.\n",
      "Source 0 Iteration 7 done.\n",
      "Source 0 Iteration 8 done.\n",
      "Source 0 Iteration 9 done.\n",
      "done with n=5 k=5\n",
      "Source 0 Iteration 0 done.\n",
      "Source 0 Iteration 1 done.\n",
      "Source 0 Iteration 2 done.\n",
      "Source 0 Iteration 3 done.\n",
      "Source 0 Iteration 4 done.\n",
      "Source 0 Iteration 5 done.\n",
      "Source 0 Iteration 6 done.\n",
      "Source 0 Iteration 7 done.\n",
      "Source 0 Iteration 8 done.\n",
      "Source 0 Iteration 9 done.\n",
      "done with n=10 k=5\n"
     ]
    }
   ],
   "source": [
    "# Note: didn't do 10 runs here \n",
    "k_values = [5]\n",
    "n_values = [1, 5, 10]\n",
    "p = 64\n",
    "results = {}\n",
    "\n",
    "for k in k_values:\n",
    "    for n in n_values:\n",
    "        thetas = iht_mpc(int(n * (10 ** 3)), p, k, T=10, bits_to_cut=0)\n",
    "        results[(n, k)] = thetas\n",
    "        print(f'done with n={n} k={k}')"
   ]
  },
  {
   "cell_type": "code",
   "execution_count": 31,
   "metadata": {},
   "outputs": [
    {
     "name": "stdout",
     "output_type": "stream",
     "text": [
      "Source 0 Iteration 0 done.\n",
      "Source 0 Iteration 1 done.\n",
      "Source 0 Iteration 2 done.\n",
      "Source 0 Iteration 3 done.\n",
      "Source 0 Iteration 4 done.\n",
      "Source 0 Iteration 5 done.\n",
      "Source 0 Iteration 6 done.\n",
      "Source 0 Iteration 7 done.\n",
      "Source 0 Iteration 8 done.\n",
      "Source 0 Iteration 9 done.\n",
      "done with n=1 k=5\n",
      "Source 0 Iteration 0 done.\n",
      "Source 0 Iteration 1 done.\n",
      "Source 0 Iteration 2 done.\n",
      "Source 0 Iteration 3 done.\n",
      "Source 0 Iteration 4 done.\n",
      "Source 0 Iteration 5 done.\n",
      "Source 0 Iteration 6 done.\n",
      "Source 0 Iteration 7 done.\n",
      "Source 0 Iteration 8 done.\n",
      "Source 0 Iteration 9 done.\n",
      "done with n=5 k=5\n",
      "Source 0 Iteration 0 done.\n",
      "Source 0 Iteration 1 done.\n",
      "Source 0 Iteration 2 done.\n",
      "Source 0 Iteration 3 done.\n",
      "Source 0 Iteration 4 done.\n",
      "Source 0 Iteration 5 done.\n",
      "Source 0 Iteration 6 done.\n",
      "Source 0 Iteration 7 done.\n",
      "Source 0 Iteration 8 done.\n",
      "Source 0 Iteration 9 done.\n",
      "done with n=10 k=5\n"
     ]
    }
   ],
   "source": [
    "k_values = [5]\n",
    "n_values = [1, 5, 10]\n",
    "p = 64\n",
    "results2 = {}\n",
    "\n",
    "for k in k_values:\n",
    "    for n in n_values:\n",
    "        thetas = iht_mpc(int(n * (10 ** 3)), p, k, T=10, bits_to_cut=2) # division by 2\n",
    "        results2[(n, k)] = thetas\n",
    "        print(f'done with n={n} k={k}')"
   ]
  },
  {
   "cell_type": "code",
   "execution_count": 32,
   "metadata": {},
   "outputs": [
    {
     "data": {
      "text/plain": [
       "{(1,\n",
       "  5): [tensor([4.0698394775, 4.0614166260, 4.0571441650, 4.0554656982, 4.0542755127,\n",
       "          4.0538787842, 4.0538940430, 4.0542449951, 4.0533599854, 4.0545959473]), tensor([4.0698394775, 4.0614166260, 4.0571441650, 4.0554656982, 4.0542755127,\n",
       "          4.0538787842, 4.0538940430, 4.0542449951, 4.0533599854, 4.0545959473]), tensor([4.0698394775, 4.0614166260, 4.0571441650, 4.0554656982, 4.0542755127,\n",
       "          4.0538787842, 4.0538940430, 4.0542449951, 4.0533599854, 4.0545959473])],\n",
       " (5,\n",
       "  5): [tensor([4.3280181885, 4.3201141357, 4.3156280518, 4.3136596680, 4.3132934570,\n",
       "          4.3127288818, 4.3125457764, 4.3117980957, 4.3114471436, 4.3117065430]), tensor([4.3280181885, 4.3201141357, 4.3156280518, 4.3136596680, 4.3132934570,\n",
       "          4.3127288818, 4.3125457764, 4.3117980957, 4.3114471436, 4.3117065430]), tensor([4.3280181885, 4.3201141357, 4.3156280518, 4.3136596680, 4.3132934570,\n",
       "          4.3127288818, 4.3125457764, 4.3117980957, 4.3114471436, 4.3117065430])],\n",
       " (10,\n",
       "  5): [tensor([4.2629241943, 4.2536926270, 4.2511596680, 4.2491149902, 4.2475585938,\n",
       "          4.2470092773, 4.2468872070, 4.2458953857, 4.2468872070, 4.2460021973]), tensor([4.2629241943, 4.2536926270, 4.2511596680, 4.2491149902, 4.2475585938,\n",
       "          4.2470092773, 4.2468872070, 4.2458953857, 4.2468872070, 4.2460021973]), tensor([4.2629241943, 4.2536926270, 4.2511596680, 4.2491149902, 4.2475585938,\n",
       "          4.2470092773, 4.2468872070, 4.2458953857, 4.2468872070, 4.2460021973])]}"
      ]
     },
     "execution_count": 32,
     "metadata": {},
     "output_type": "execute_result"
    }
   ],
   "source": [
    "results2\n",
    "#torch.save(results, 'plot_1.pt') # key - (n, k); value: errors from all iterations"
   ]
  },
  {
   "cell_type": "code",
   "execution_count": 35,
   "metadata": {},
   "outputs": [
    {
     "name": "stderr",
     "output_type": "stream",
     "text": [
      "WARNING:matplotlib.legend:No artists with labels found to put in legend.  Note that artists whose label start with an underscore are ignored when legend() is called with no argument.\n",
      "WARNING:matplotlib.legend:No artists with labels found to put in legend.  Note that artists whose label start with an underscore are ignored when legend() is called with no argument.\n",
      "WARNING:matplotlib.legend:No artists with labels found to put in legend.  Note that artists whose label start with an underscore are ignored when legend() is called with no argument.\n"
     ]
    },
    {
     "data": {
      "image/png": "[encoded data removed]",
      "text/plain": [
       "<Figure size 1400x1000 with 4 Axes>"
      ]
     },
     "metadata": {},
     "output_type": "display_data"
    }
   ],
   "source": [
    "plot_error_by_iterations(results2)"
   ]
  },
  {
   "cell_type": "code",
   "execution_count": 48,
   "metadata": {},
   "outputs": [
    {
     "data": {
      "text/plain": [
       "{(1,\n",
       "  5): [tensor([4.0173492432, 3.9362945557, 3.8721160889, 3.8190307617, 3.7767791748,\n",
       "          3.7437591553, 3.7172241211, 3.6959686279, 3.6803436279, 3.6664276123]), tensor([4.0173492432, 3.9362945557, 3.8721160889, 3.8190307617, 3.7767791748,\n",
       "          3.7437591553, 3.7172241211, 3.6959686279, 3.6803436279, 3.6664276123]), tensor([4.0173492432, 3.9362945557, 3.8721160889, 3.8190307617, 3.7767791748,\n",
       "          3.7437591553, 3.7172241211, 3.6959686279, 3.6803436279, 3.6664276123])],\n",
       " (5,\n",
       "  5): [tensor([4.5921020508, 4.5198822021, 4.4608154297, 4.4140167236, 4.3768157959,\n",
       "          4.3480377197, 4.3226318359, 4.3043975830, 4.2885742188, 4.2753448486]), tensor([4.5921020508, 4.5198822021, 4.4608154297, 4.4140167236, 4.3768157959,\n",
       "          4.3480377197, 4.3226318359, 4.3043975830, 4.2885742188, 4.2753448486]), tensor([4.5921020508, 4.5198822021, 4.4608154297, 4.4140167236, 4.3768157959,\n",
       "          4.3480377197, 4.3226318359, 4.3043975830, 4.2885742188, 4.2753448486])],\n",
       " (10,\n",
       "  5): [tensor([4.3872375488, 4.3076477051, 4.2421264648, 4.1893157959, 4.1472320557,\n",
       "          4.1111602783, 4.0822448730, 4.0602264404, 4.0406341553, 4.0262756348]), tensor([4.3872375488, 4.3076477051, 4.2421264648, 4.1893157959, 4.1472320557,\n",
       "          4.1111602783, 4.0822448730, 4.0602264404, 4.0406341553, 4.0262756348]), tensor([4.3872375488, 4.3076477051, 4.2421264648, 4.1893157959, 4.1472320557,\n",
       "          4.1111602783, 4.0822448730, 4.0602264404, 4.0406341553, 4.0262756348])],\n",
       " (1,\n",
       "  10): [tensor([3.6995849609, 3.5398559570, 3.4088897705, 3.3009643555, 3.2123718262,\n",
       "          3.1399688721, 3.0817565918, 3.0349884033, 2.9976654053, 2.9668273926]), tensor([3.6995849609, 3.5398559570, 3.4088897705, 3.3009643555, 3.2123718262,\n",
       "          3.1399688721, 3.0817565918, 3.0349884033, 2.9976654053, 2.9668273926]), tensor([3.6995849609, 3.5398559570, 3.4088897705, 3.3009643555, 3.2123718262,\n",
       "          3.1399688721, 3.0817565918, 3.0349884033, 2.9976654053, 2.9668273926])],\n",
       " (5,\n",
       "  10): [tensor([4.3137359619, 4.1665039062, 4.0461120605, 3.9463500977, 3.8642578125,\n",
       "          3.7982635498, 3.7426605225, 3.6976776123, 3.6626281738, 3.6322937012]), tensor([4.3137359619, 4.1665039062, 4.0461120605, 3.9463500977, 3.8642578125,\n",
       "          3.7982635498, 3.7426605225, 3.6976776123, 3.6626281738, 3.6322937012]), tensor([4.3137359619, 4.1665039062, 4.0461120605, 3.9463500977, 3.8642578125,\n",
       "          3.7982635498, 3.7426605225, 3.6976776123, 3.6626281738, 3.6322937012])],\n",
       " (10,\n",
       "  10): [tensor([4.2048492432, 4.0451965332, 3.9109497070, 3.7984466553, 3.7062988281,\n",
       "          3.6288299561, 3.5653686523, 3.5132446289, 3.4704132080, 3.4364318848]), tensor([4.2048492432, 4.0451965332, 3.9109497070, 3.7984466553, 3.7062988281,\n",
       "          3.6288299561, 3.5653686523, 3.5132446289, 3.4704132080, 3.4364318848]), tensor([4.2048492432, 4.0451965332, 3.9109497070, 3.7984466553, 3.7062988281,\n",
       "          3.6288299561, 3.5653686523, 3.5132446289, 3.4704132080, 3.4364318848])],\n",
       " (1,\n",
       "  20): [tensor([3.2697448730, 2.9949035645, 2.7576141357, 2.5515747070, 2.3722229004,\n",
       "          2.2152557373, 2.0793151855, 1.9623260498, 1.8626403809, 1.7776184082]), tensor([3.2697448730, 2.9949035645, 2.7576141357, 2.5515747070, 2.3722229004,\n",
       "          2.2152557373, 2.0793151855, 1.9623260498, 1.8626403809, 1.7776184082]), tensor([3.2697448730, 2.9949035645, 2.7576141357, 2.5515747070, 2.3722229004,\n",
       "          2.2152557373, 2.0793151855, 1.9623260498, 1.8626403809, 1.7776184082])],\n",
       " (5,\n",
       "  20): [tensor([4.0131378174, 3.7444152832, 3.5110015869, 3.3110198975, 3.1414337158,\n",
       "          2.9980010986, 2.8787384033, 2.7793426514, 2.6968383789, 2.6289215088]), tensor([4.0131378174, 3.7444152832, 3.5110015869, 3.3110198975, 3.1414337158,\n",
       "          2.9980010986, 2.8787384033, 2.7793426514, 2.6968383789, 2.6289215088]), tensor([4.0131378174, 3.7444152832, 3.5110015869, 3.3110198975, 3.1414337158,\n",
       "          2.9980010986, 2.8787384033, 2.7793426514, 2.6968383789, 2.6289215088])],\n",
       " (10,\n",
       "  20): [tensor([3.5669860840, 3.2641143799, 2.9978790283, 2.7663116455, 2.5649108887,\n",
       "          2.3886413574, 2.2343902588, 2.1002197266, 1.9846191406, 1.8852996826]), tensor([3.5669860840, 3.2641143799, 2.9978790283, 2.7663116455, 2.5649108887,\n",
       "          2.3886413574, 2.2343902588, 2.1002197266, 1.9846191406, 1.8852996826]), tensor([3.5669860840, 3.2641143799, 2.9978790283, 2.7663116455, 2.5649108887,\n",
       "          2.3886413574, 2.2343902588, 2.1002197266, 1.9846191406, 1.8852996826])]}"
      ]
     },
     "execution_count": 48,
     "metadata": {},
     "output_type": "execute_result"
    }
   ],
   "source": [
    "results"
   ]
  },
  {
   "cell_type": "markdown",
   "metadata": {},
   "source": [
    "## Plot\n",
    "\n",
    "- ox: varying n\n",
    "- oy: error\n",
    "- by k"
   ]
  },
  {
   "cell_type": "code",
   "execution_count": 59,
   "metadata": {},
   "outputs": [
    {
     "name": "stdout",
     "output_type": "stream",
     "text": [
      "{5: [3.6664276, 4.275345, 4.0262756], 10: [2.9668274, 3.6322937, 3.436432], 20: [1.7776184, 2.6289215, 1.8852997]}\n"
     ]
    },
    {
     "data": {
      "image/png": "[encoded data removed]",
      "text/plain": [
       "<Figure size 640x480 with 1 Axes>"
      ]
     },
     "metadata": {},
     "output_type": "display_data"
    }
   ],
   "source": [
    "y_values = {}\n",
    "for key in results.keys():\n",
    "    n, k = key\n",
    "    \n",
    "    if k not in y_values:\n",
    "        y_values[k] = []\n",
    "    \n",
    "    y_values[k].append(results[key][0].numpy()[-1])\n",
    "\n",
    "print(y_values)\n",
    "\n",
    "for k in y_values.keys():\n",
    "    plt.plot(n_values, y_values[k], label=f'k={k}', color=(np.random.random(), np.random.random(), np.random.random()))\n",
    "\n",
    "plt.legend(loc=1)\n",
    "plt.xlabel(\"order of n (* 10^5)\")\n",
    "plt.ylabel(\"error\")\n",
    "plt.title(\"p = 64\")\n",
    "plt.show()"
   ]
  },
  {
   "cell_type": "code",
   "execution_count": null,
   "metadata": {},
   "outputs": [],
   "source": []
  }
 ],
 "metadata": {
  "kernelspec": {
   "display_name": "mpc",
   "language": "python",
   "name": "python3"
  },
  "language_info": {
   "codemirror_mode": {
    "name": "ipython",
    "version": 3
   },
   "file_extension": ".py",
   "mimetype": "text/x-python",
   "name": "python",
   "nbconvert_exporter": "python",
   "pygments_lexer": "ipython3",
   "version": "3.7.16"
  },
  "orig_nbformat": 4
 },
 "nbformat": 4,
 "nbformat_minor": 2
}
